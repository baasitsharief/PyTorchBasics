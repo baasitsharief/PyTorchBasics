{
  "nbformat": 4,
  "nbformat_minor": 0,
  "metadata": {
    "colab": {
      "name": "Validation.ipynb",
      "provenance": [],
      "collapsed_sections": []
    },
    "language_info": {
      "codemirror_mode": {
        "name": "ipython",
        "version": 3
      },
      "file_extension": ".py",
      "mimetype": "text/x-python",
      "name": "python",
      "nbconvert_exporter": "python",
      "pygments_lexer": "ipython3",
      "version": "3.6.8"
    },
    "kernelspec": {
      "name": "python3",
      "display_name": "Python 3"
    },
    "widgets": {
      "application/vnd.jupyter.widget-state+json": {
        "a40e2d0f64e84e20b7455076aa79a039": {
          "model_module": "@jupyter-widgets/controls",
          "model_name": "HBoxModel",
          "model_module_version": "1.5.0",
          "state": {
            "_view_name": "HBoxView",
            "_dom_classes": [],
            "_model_name": "HBoxModel",
            "_view_module": "@jupyter-widgets/controls",
            "_model_module_version": "1.5.0",
            "_view_count": null,
            "_view_module_version": "1.5.0",
            "box_style": "",
            "layout": "IPY_MODEL_7f13cadc182a49b59abd301399c9a994",
            "_model_module": "@jupyter-widgets/controls",
            "children": [
              "IPY_MODEL_a6cda3d68e0346b4a46e25bfae0acf33",
              "IPY_MODEL_472aaffdbf5e4a218bdd10a7ec228490",
              "IPY_MODEL_54a0b1084f49479088d662131589a28e"
            ]
          }
        },
        "7f13cadc182a49b59abd301399c9a994": {
          "model_module": "@jupyter-widgets/base",
          "model_name": "LayoutModel",
          "model_module_version": "1.2.0",
          "state": {
            "_view_name": "LayoutView",
            "grid_template_rows": null,
            "right": null,
            "justify_content": null,
            "_view_module": "@jupyter-widgets/base",
            "overflow": null,
            "_model_module_version": "1.2.0",
            "_view_count": null,
            "flex_flow": null,
            "width": null,
            "min_width": null,
            "border": null,
            "align_items": null,
            "bottom": null,
            "_model_module": "@jupyter-widgets/base",
            "top": null,
            "grid_column": null,
            "overflow_y": null,
            "overflow_x": null,
            "grid_auto_flow": null,
            "grid_area": null,
            "grid_template_columns": null,
            "flex": null,
            "_model_name": "LayoutModel",
            "justify_items": null,
            "grid_row": null,
            "max_height": null,
            "align_content": null,
            "visibility": null,
            "align_self": null,
            "height": null,
            "min_height": null,
            "padding": null,
            "grid_auto_rows": null,
            "grid_gap": null,
            "max_width": null,
            "order": null,
            "_view_module_version": "1.2.0",
            "grid_template_areas": null,
            "object_position": null,
            "object_fit": null,
            "grid_auto_columns": null,
            "margin": null,
            "display": null,
            "left": null
          }
        },
        "a6cda3d68e0346b4a46e25bfae0acf33": {
          "model_module": "@jupyter-widgets/controls",
          "model_name": "HTMLModel",
          "model_module_version": "1.5.0",
          "state": {
            "_view_name": "HTMLView",
            "style": "IPY_MODEL_c5468edcbaa147879b12e973b7859d15",
            "_dom_classes": [],
            "description": "",
            "_model_name": "HTMLModel",
            "placeholder": "​",
            "_view_module": "@jupyter-widgets/controls",
            "_model_module_version": "1.5.0",
            "value": "",
            "_view_count": null,
            "_view_module_version": "1.5.0",
            "description_tooltip": null,
            "_model_module": "@jupyter-widgets/controls",
            "layout": "IPY_MODEL_b61131f5067247a084ff72e162de01b0"
          }
        },
        "472aaffdbf5e4a218bdd10a7ec228490": {
          "model_module": "@jupyter-widgets/controls",
          "model_name": "FloatProgressModel",
          "model_module_version": "1.5.0",
          "state": {
            "_view_name": "ProgressView",
            "style": "IPY_MODEL_6e19fbc45b0f433ba6af0fbcaa57bfca",
            "_dom_classes": [],
            "description": "",
            "_model_name": "FloatProgressModel",
            "bar_style": "success",
            "max": 26421880,
            "_view_module": "@jupyter-widgets/controls",
            "_model_module_version": "1.5.0",
            "value": 26421880,
            "_view_count": null,
            "_view_module_version": "1.5.0",
            "orientation": "horizontal",
            "min": 0,
            "description_tooltip": null,
            "_model_module": "@jupyter-widgets/controls",
            "layout": "IPY_MODEL_a14393a49298475b89bfc7beb5c2c069"
          }
        },
        "54a0b1084f49479088d662131589a28e": {
          "model_module": "@jupyter-widgets/controls",
          "model_name": "HTMLModel",
          "model_module_version": "1.5.0",
          "state": {
            "_view_name": "HTMLView",
            "style": "IPY_MODEL_50a81b9f3fb6444796e214f52a9c95ef",
            "_dom_classes": [],
            "description": "",
            "_model_name": "HTMLModel",
            "placeholder": "​",
            "_view_module": "@jupyter-widgets/controls",
            "_model_module_version": "1.5.0",
            "value": " 26422272/? [00:01&lt;00:00, 23567821.13it/s]",
            "_view_count": null,
            "_view_module_version": "1.5.0",
            "description_tooltip": null,
            "_model_module": "@jupyter-widgets/controls",
            "layout": "IPY_MODEL_7be3678ffbad4021ad34e1f35b26d478"
          }
        },
        "c5468edcbaa147879b12e973b7859d15": {
          "model_module": "@jupyter-widgets/controls",
          "model_name": "DescriptionStyleModel",
          "model_module_version": "1.5.0",
          "state": {
            "_view_name": "StyleView",
            "_model_name": "DescriptionStyleModel",
            "description_width": "",
            "_view_module": "@jupyter-widgets/base",
            "_model_module_version": "1.5.0",
            "_view_count": null,
            "_view_module_version": "1.2.0",
            "_model_module": "@jupyter-widgets/controls"
          }
        },
        "b61131f5067247a084ff72e162de01b0": {
          "model_module": "@jupyter-widgets/base",
          "model_name": "LayoutModel",
          "model_module_version": "1.2.0",
          "state": {
            "_view_name": "LayoutView",
            "grid_template_rows": null,
            "right": null,
            "justify_content": null,
            "_view_module": "@jupyter-widgets/base",
            "overflow": null,
            "_model_module_version": "1.2.0",
            "_view_count": null,
            "flex_flow": null,
            "width": null,
            "min_width": null,
            "border": null,
            "align_items": null,
            "bottom": null,
            "_model_module": "@jupyter-widgets/base",
            "top": null,
            "grid_column": null,
            "overflow_y": null,
            "overflow_x": null,
            "grid_auto_flow": null,
            "grid_area": null,
            "grid_template_columns": null,
            "flex": null,
            "_model_name": "LayoutModel",
            "justify_items": null,
            "grid_row": null,
            "max_height": null,
            "align_content": null,
            "visibility": null,
            "align_self": null,
            "height": null,
            "min_height": null,
            "padding": null,
            "grid_auto_rows": null,
            "grid_gap": null,
            "max_width": null,
            "order": null,
            "_view_module_version": "1.2.0",
            "grid_template_areas": null,
            "object_position": null,
            "object_fit": null,
            "grid_auto_columns": null,
            "margin": null,
            "display": null,
            "left": null
          }
        },
        "6e19fbc45b0f433ba6af0fbcaa57bfca": {
          "model_module": "@jupyter-widgets/controls",
          "model_name": "ProgressStyleModel",
          "model_module_version": "1.5.0",
          "state": {
            "_view_name": "StyleView",
            "_model_name": "ProgressStyleModel",
            "description_width": "",
            "_view_module": "@jupyter-widgets/base",
            "_model_module_version": "1.5.0",
            "_view_count": null,
            "_view_module_version": "1.2.0",
            "bar_color": null,
            "_model_module": "@jupyter-widgets/controls"
          }
        },
        "a14393a49298475b89bfc7beb5c2c069": {
          "model_module": "@jupyter-widgets/base",
          "model_name": "LayoutModel",
          "model_module_version": "1.2.0",
          "state": {
            "_view_name": "LayoutView",
            "grid_template_rows": null,
            "right": null,
            "justify_content": null,
            "_view_module": "@jupyter-widgets/base",
            "overflow": null,
            "_model_module_version": "1.2.0",
            "_view_count": null,
            "flex_flow": null,
            "width": null,
            "min_width": null,
            "border": null,
            "align_items": null,
            "bottom": null,
            "_model_module": "@jupyter-widgets/base",
            "top": null,
            "grid_column": null,
            "overflow_y": null,
            "overflow_x": null,
            "grid_auto_flow": null,
            "grid_area": null,
            "grid_template_columns": null,
            "flex": null,
            "_model_name": "LayoutModel",
            "justify_items": null,
            "grid_row": null,
            "max_height": null,
            "align_content": null,
            "visibility": null,
            "align_self": null,
            "height": null,
            "min_height": null,
            "padding": null,
            "grid_auto_rows": null,
            "grid_gap": null,
            "max_width": null,
            "order": null,
            "_view_module_version": "1.2.0",
            "grid_template_areas": null,
            "object_position": null,
            "object_fit": null,
            "grid_auto_columns": null,
            "margin": null,
            "display": null,
            "left": null
          }
        },
        "50a81b9f3fb6444796e214f52a9c95ef": {
          "model_module": "@jupyter-widgets/controls",
          "model_name": "DescriptionStyleModel",
          "model_module_version": "1.5.0",
          "state": {
            "_view_name": "StyleView",
            "_model_name": "DescriptionStyleModel",
            "description_width": "",
            "_view_module": "@jupyter-widgets/base",
            "_model_module_version": "1.5.0",
            "_view_count": null,
            "_view_module_version": "1.2.0",
            "_model_module": "@jupyter-widgets/controls"
          }
        },
        "7be3678ffbad4021ad34e1f35b26d478": {
          "model_module": "@jupyter-widgets/base",
          "model_name": "LayoutModel",
          "model_module_version": "1.2.0",
          "state": {
            "_view_name": "LayoutView",
            "grid_template_rows": null,
            "right": null,
            "justify_content": null,
            "_view_module": "@jupyter-widgets/base",
            "overflow": null,
            "_model_module_version": "1.2.0",
            "_view_count": null,
            "flex_flow": null,
            "width": null,
            "min_width": null,
            "border": null,
            "align_items": null,
            "bottom": null,
            "_model_module": "@jupyter-widgets/base",
            "top": null,
            "grid_column": null,
            "overflow_y": null,
            "overflow_x": null,
            "grid_auto_flow": null,
            "grid_area": null,
            "grid_template_columns": null,
            "flex": null,
            "_model_name": "LayoutModel",
            "justify_items": null,
            "grid_row": null,
            "max_height": null,
            "align_content": null,
            "visibility": null,
            "align_self": null,
            "height": null,
            "min_height": null,
            "padding": null,
            "grid_auto_rows": null,
            "grid_gap": null,
            "max_width": null,
            "order": null,
            "_view_module_version": "1.2.0",
            "grid_template_areas": null,
            "object_position": null,
            "object_fit": null,
            "grid_auto_columns": null,
            "margin": null,
            "display": null,
            "left": null
          }
        },
        "48433b28ddcd4a6b93fedfa252eada0d": {
          "model_module": "@jupyter-widgets/controls",
          "model_name": "HBoxModel",
          "model_module_version": "1.5.0",
          "state": {
            "_view_name": "HBoxView",
            "_dom_classes": [],
            "_model_name": "HBoxModel",
            "_view_module": "@jupyter-widgets/controls",
            "_model_module_version": "1.5.0",
            "_view_count": null,
            "_view_module_version": "1.5.0",
            "box_style": "",
            "layout": "IPY_MODEL_37b61687fbeb41ec9ab42754581d50a0",
            "_model_module": "@jupyter-widgets/controls",
            "children": [
              "IPY_MODEL_ddf8e036da0240f09074e48d509feda5",
              "IPY_MODEL_208995bffa5649a3b5792836da343846",
              "IPY_MODEL_d5c455352bbf4ccaa4c0eab0e3b0e73f"
            ]
          }
        },
        "37b61687fbeb41ec9ab42754581d50a0": {
          "model_module": "@jupyter-widgets/base",
          "model_name": "LayoutModel",
          "model_module_version": "1.2.0",
          "state": {
            "_view_name": "LayoutView",
            "grid_template_rows": null,
            "right": null,
            "justify_content": null,
            "_view_module": "@jupyter-widgets/base",
            "overflow": null,
            "_model_module_version": "1.2.0",
            "_view_count": null,
            "flex_flow": null,
            "width": null,
            "min_width": null,
            "border": null,
            "align_items": null,
            "bottom": null,
            "_model_module": "@jupyter-widgets/base",
            "top": null,
            "grid_column": null,
            "overflow_y": null,
            "overflow_x": null,
            "grid_auto_flow": null,
            "grid_area": null,
            "grid_template_columns": null,
            "flex": null,
            "_model_name": "LayoutModel",
            "justify_items": null,
            "grid_row": null,
            "max_height": null,
            "align_content": null,
            "visibility": null,
            "align_self": null,
            "height": null,
            "min_height": null,
            "padding": null,
            "grid_auto_rows": null,
            "grid_gap": null,
            "max_width": null,
            "order": null,
            "_view_module_version": "1.2.0",
            "grid_template_areas": null,
            "object_position": null,
            "object_fit": null,
            "grid_auto_columns": null,
            "margin": null,
            "display": null,
            "left": null
          }
        },
        "ddf8e036da0240f09074e48d509feda5": {
          "model_module": "@jupyter-widgets/controls",
          "model_name": "HTMLModel",
          "model_module_version": "1.5.0",
          "state": {
            "_view_name": "HTMLView",
            "style": "IPY_MODEL_d76fcf4ee0bf45e4be4d3fd66b018c73",
            "_dom_classes": [],
            "description": "",
            "_model_name": "HTMLModel",
            "placeholder": "​",
            "_view_module": "@jupyter-widgets/controls",
            "_model_module_version": "1.5.0",
            "value": "",
            "_view_count": null,
            "_view_module_version": "1.5.0",
            "description_tooltip": null,
            "_model_module": "@jupyter-widgets/controls",
            "layout": "IPY_MODEL_4cd449a85d054e27afc4d9b2ea79171f"
          }
        },
        "208995bffa5649a3b5792836da343846": {
          "model_module": "@jupyter-widgets/controls",
          "model_name": "FloatProgressModel",
          "model_module_version": "1.5.0",
          "state": {
            "_view_name": "ProgressView",
            "style": "IPY_MODEL_60bd83ae122943b39fbd3d3abd20fc14",
            "_dom_classes": [],
            "description": "",
            "_model_name": "FloatProgressModel",
            "bar_style": "success",
            "max": 29515,
            "_view_module": "@jupyter-widgets/controls",
            "_model_module_version": "1.5.0",
            "value": 29515,
            "_view_count": null,
            "_view_module_version": "1.5.0",
            "orientation": "horizontal",
            "min": 0,
            "description_tooltip": null,
            "_model_module": "@jupyter-widgets/controls",
            "layout": "IPY_MODEL_b93d17b5871644989296b1fe80235070"
          }
        },
        "d5c455352bbf4ccaa4c0eab0e3b0e73f": {
          "model_module": "@jupyter-widgets/controls",
          "model_name": "HTMLModel",
          "model_module_version": "1.5.0",
          "state": {
            "_view_name": "HTMLView",
            "style": "IPY_MODEL_fad1f80cf6054387bc604750325141b4",
            "_dom_classes": [],
            "description": "",
            "_model_name": "HTMLModel",
            "placeholder": "​",
            "_view_module": "@jupyter-widgets/controls",
            "_model_module_version": "1.5.0",
            "value": " 29696/? [00:00&lt;00:00, 298609.85it/s]",
            "_view_count": null,
            "_view_module_version": "1.5.0",
            "description_tooltip": null,
            "_model_module": "@jupyter-widgets/controls",
            "layout": "IPY_MODEL_bb52ef91f1154108a77d5bd16b317c91"
          }
        },
        "d76fcf4ee0bf45e4be4d3fd66b018c73": {
          "model_module": "@jupyter-widgets/controls",
          "model_name": "DescriptionStyleModel",
          "model_module_version": "1.5.0",
          "state": {
            "_view_name": "StyleView",
            "_model_name": "DescriptionStyleModel",
            "description_width": "",
            "_view_module": "@jupyter-widgets/base",
            "_model_module_version": "1.5.0",
            "_view_count": null,
            "_view_module_version": "1.2.0",
            "_model_module": "@jupyter-widgets/controls"
          }
        },
        "4cd449a85d054e27afc4d9b2ea79171f": {
          "model_module": "@jupyter-widgets/base",
          "model_name": "LayoutModel",
          "model_module_version": "1.2.0",
          "state": {
            "_view_name": "LayoutView",
            "grid_template_rows": null,
            "right": null,
            "justify_content": null,
            "_view_module": "@jupyter-widgets/base",
            "overflow": null,
            "_model_module_version": "1.2.0",
            "_view_count": null,
            "flex_flow": null,
            "width": null,
            "min_width": null,
            "border": null,
            "align_items": null,
            "bottom": null,
            "_model_module": "@jupyter-widgets/base",
            "top": null,
            "grid_column": null,
            "overflow_y": null,
            "overflow_x": null,
            "grid_auto_flow": null,
            "grid_area": null,
            "grid_template_columns": null,
            "flex": null,
            "_model_name": "LayoutModel",
            "justify_items": null,
            "grid_row": null,
            "max_height": null,
            "align_content": null,
            "visibility": null,
            "align_self": null,
            "height": null,
            "min_height": null,
            "padding": null,
            "grid_auto_rows": null,
            "grid_gap": null,
            "max_width": null,
            "order": null,
            "_view_module_version": "1.2.0",
            "grid_template_areas": null,
            "object_position": null,
            "object_fit": null,
            "grid_auto_columns": null,
            "margin": null,
            "display": null,
            "left": null
          }
        },
        "60bd83ae122943b39fbd3d3abd20fc14": {
          "model_module": "@jupyter-widgets/controls",
          "model_name": "ProgressStyleModel",
          "model_module_version": "1.5.0",
          "state": {
            "_view_name": "StyleView",
            "_model_name": "ProgressStyleModel",
            "description_width": "",
            "_view_module": "@jupyter-widgets/base",
            "_model_module_version": "1.5.0",
            "_view_count": null,
            "_view_module_version": "1.2.0",
            "bar_color": null,
            "_model_module": "@jupyter-widgets/controls"
          }
        },
        "b93d17b5871644989296b1fe80235070": {
          "model_module": "@jupyter-widgets/base",
          "model_name": "LayoutModel",
          "model_module_version": "1.2.0",
          "state": {
            "_view_name": "LayoutView",
            "grid_template_rows": null,
            "right": null,
            "justify_content": null,
            "_view_module": "@jupyter-widgets/base",
            "overflow": null,
            "_model_module_version": "1.2.0",
            "_view_count": null,
            "flex_flow": null,
            "width": null,
            "min_width": null,
            "border": null,
            "align_items": null,
            "bottom": null,
            "_model_module": "@jupyter-widgets/base",
            "top": null,
            "grid_column": null,
            "overflow_y": null,
            "overflow_x": null,
            "grid_auto_flow": null,
            "grid_area": null,
            "grid_template_columns": null,
            "flex": null,
            "_model_name": "LayoutModel",
            "justify_items": null,
            "grid_row": null,
            "max_height": null,
            "align_content": null,
            "visibility": null,
            "align_self": null,
            "height": null,
            "min_height": null,
            "padding": null,
            "grid_auto_rows": null,
            "grid_gap": null,
            "max_width": null,
            "order": null,
            "_view_module_version": "1.2.0",
            "grid_template_areas": null,
            "object_position": null,
            "object_fit": null,
            "grid_auto_columns": null,
            "margin": null,
            "display": null,
            "left": null
          }
        },
        "fad1f80cf6054387bc604750325141b4": {
          "model_module": "@jupyter-widgets/controls",
          "model_name": "DescriptionStyleModel",
          "model_module_version": "1.5.0",
          "state": {
            "_view_name": "StyleView",
            "_model_name": "DescriptionStyleModel",
            "description_width": "",
            "_view_module": "@jupyter-widgets/base",
            "_model_module_version": "1.5.0",
            "_view_count": null,
            "_view_module_version": "1.2.0",
            "_model_module": "@jupyter-widgets/controls"
          }
        },
        "bb52ef91f1154108a77d5bd16b317c91": {
          "model_module": "@jupyter-widgets/base",
          "model_name": "LayoutModel",
          "model_module_version": "1.2.0",
          "state": {
            "_view_name": "LayoutView",
            "grid_template_rows": null,
            "right": null,
            "justify_content": null,
            "_view_module": "@jupyter-widgets/base",
            "overflow": null,
            "_model_module_version": "1.2.0",
            "_view_count": null,
            "flex_flow": null,
            "width": null,
            "min_width": null,
            "border": null,
            "align_items": null,
            "bottom": null,
            "_model_module": "@jupyter-widgets/base",
            "top": null,
            "grid_column": null,
            "overflow_y": null,
            "overflow_x": null,
            "grid_auto_flow": null,
            "grid_area": null,
            "grid_template_columns": null,
            "flex": null,
            "_model_name": "LayoutModel",
            "justify_items": null,
            "grid_row": null,
            "max_height": null,
            "align_content": null,
            "visibility": null,
            "align_self": null,
            "height": null,
            "min_height": null,
            "padding": null,
            "grid_auto_rows": null,
            "grid_gap": null,
            "max_width": null,
            "order": null,
            "_view_module_version": "1.2.0",
            "grid_template_areas": null,
            "object_position": null,
            "object_fit": null,
            "grid_auto_columns": null,
            "margin": null,
            "display": null,
            "left": null
          }
        },
        "127de83224e74d0a86deea9196841839": {
          "model_module": "@jupyter-widgets/controls",
          "model_name": "HBoxModel",
          "model_module_version": "1.5.0",
          "state": {
            "_view_name": "HBoxView",
            "_dom_classes": [],
            "_model_name": "HBoxModel",
            "_view_module": "@jupyter-widgets/controls",
            "_model_module_version": "1.5.0",
            "_view_count": null,
            "_view_module_version": "1.5.0",
            "box_style": "",
            "layout": "IPY_MODEL_910ca08e73474f43992864ff40a5b155",
            "_model_module": "@jupyter-widgets/controls",
            "children": [
              "IPY_MODEL_bea44cbf087b4cc3a69417ae00b338bb",
              "IPY_MODEL_45f59c63088c442f9102d7bcc5e43a53",
              "IPY_MODEL_7071ca3698ee45ebb46e9bdbe7f77fa1"
            ]
          }
        },
        "910ca08e73474f43992864ff40a5b155": {
          "model_module": "@jupyter-widgets/base",
          "model_name": "LayoutModel",
          "model_module_version": "1.2.0",
          "state": {
            "_view_name": "LayoutView",
            "grid_template_rows": null,
            "right": null,
            "justify_content": null,
            "_view_module": "@jupyter-widgets/base",
            "overflow": null,
            "_model_module_version": "1.2.0",
            "_view_count": null,
            "flex_flow": null,
            "width": null,
            "min_width": null,
            "border": null,
            "align_items": null,
            "bottom": null,
            "_model_module": "@jupyter-widgets/base",
            "top": null,
            "grid_column": null,
            "overflow_y": null,
            "overflow_x": null,
            "grid_auto_flow": null,
            "grid_area": null,
            "grid_template_columns": null,
            "flex": null,
            "_model_name": "LayoutModel",
            "justify_items": null,
            "grid_row": null,
            "max_height": null,
            "align_content": null,
            "visibility": null,
            "align_self": null,
            "height": null,
            "min_height": null,
            "padding": null,
            "grid_auto_rows": null,
            "grid_gap": null,
            "max_width": null,
            "order": null,
            "_view_module_version": "1.2.0",
            "grid_template_areas": null,
            "object_position": null,
            "object_fit": null,
            "grid_auto_columns": null,
            "margin": null,
            "display": null,
            "left": null
          }
        },
        "bea44cbf087b4cc3a69417ae00b338bb": {
          "model_module": "@jupyter-widgets/controls",
          "model_name": "HTMLModel",
          "model_module_version": "1.5.0",
          "state": {
            "_view_name": "HTMLView",
            "style": "IPY_MODEL_66904e3b3ab9467e8e5a86733dd89d43",
            "_dom_classes": [],
            "description": "",
            "_model_name": "HTMLModel",
            "placeholder": "​",
            "_view_module": "@jupyter-widgets/controls",
            "_model_module_version": "1.5.0",
            "value": "",
            "_view_count": null,
            "_view_module_version": "1.5.0",
            "description_tooltip": null,
            "_model_module": "@jupyter-widgets/controls",
            "layout": "IPY_MODEL_e74bae2f91af4c4e8abfde8f6452419e"
          }
        },
        "45f59c63088c442f9102d7bcc5e43a53": {
          "model_module": "@jupyter-widgets/controls",
          "model_name": "FloatProgressModel",
          "model_module_version": "1.5.0",
          "state": {
            "_view_name": "ProgressView",
            "style": "IPY_MODEL_f705b15e9abb4c448732a071841ba398",
            "_dom_classes": [],
            "description": "",
            "_model_name": "FloatProgressModel",
            "bar_style": "success",
            "max": 4422102,
            "_view_module": "@jupyter-widgets/controls",
            "_model_module_version": "1.5.0",
            "value": 4422102,
            "_view_count": null,
            "_view_module_version": "1.5.0",
            "orientation": "horizontal",
            "min": 0,
            "description_tooltip": null,
            "_model_module": "@jupyter-widgets/controls",
            "layout": "IPY_MODEL_f23f7be0a6704bd2aa6778deffa07967"
          }
        },
        "7071ca3698ee45ebb46e9bdbe7f77fa1": {
          "model_module": "@jupyter-widgets/controls",
          "model_name": "HTMLModel",
          "model_module_version": "1.5.0",
          "state": {
            "_view_name": "HTMLView",
            "style": "IPY_MODEL_4b51a9d231db487985b19538227d382a",
            "_dom_classes": [],
            "description": "",
            "_model_name": "HTMLModel",
            "placeholder": "​",
            "_view_module": "@jupyter-widgets/controls",
            "_model_module_version": "1.5.0",
            "value": " 4422656/? [00:00&lt;00:00, 6887763.15it/s]",
            "_view_count": null,
            "_view_module_version": "1.5.0",
            "description_tooltip": null,
            "_model_module": "@jupyter-widgets/controls",
            "layout": "IPY_MODEL_280452a72b7146b2b42432d48dfc7467"
          }
        },
        "66904e3b3ab9467e8e5a86733dd89d43": {
          "model_module": "@jupyter-widgets/controls",
          "model_name": "DescriptionStyleModel",
          "model_module_version": "1.5.0",
          "state": {
            "_view_name": "StyleView",
            "_model_name": "DescriptionStyleModel",
            "description_width": "",
            "_view_module": "@jupyter-widgets/base",
            "_model_module_version": "1.5.0",
            "_view_count": null,
            "_view_module_version": "1.2.0",
            "_model_module": "@jupyter-widgets/controls"
          }
        },
        "e74bae2f91af4c4e8abfde8f6452419e": {
          "model_module": "@jupyter-widgets/base",
          "model_name": "LayoutModel",
          "model_module_version": "1.2.0",
          "state": {
            "_view_name": "LayoutView",
            "grid_template_rows": null,
            "right": null,
            "justify_content": null,
            "_view_module": "@jupyter-widgets/base",
            "overflow": null,
            "_model_module_version": "1.2.0",
            "_view_count": null,
            "flex_flow": null,
            "width": null,
            "min_width": null,
            "border": null,
            "align_items": null,
            "bottom": null,
            "_model_module": "@jupyter-widgets/base",
            "top": null,
            "grid_column": null,
            "overflow_y": null,
            "overflow_x": null,
            "grid_auto_flow": null,
            "grid_area": null,
            "grid_template_columns": null,
            "flex": null,
            "_model_name": "LayoutModel",
            "justify_items": null,
            "grid_row": null,
            "max_height": null,
            "align_content": null,
            "visibility": null,
            "align_self": null,
            "height": null,
            "min_height": null,
            "padding": null,
            "grid_auto_rows": null,
            "grid_gap": null,
            "max_width": null,
            "order": null,
            "_view_module_version": "1.2.0",
            "grid_template_areas": null,
            "object_position": null,
            "object_fit": null,
            "grid_auto_columns": null,
            "margin": null,
            "display": null,
            "left": null
          }
        },
        "f705b15e9abb4c448732a071841ba398": {
          "model_module": "@jupyter-widgets/controls",
          "model_name": "ProgressStyleModel",
          "model_module_version": "1.5.0",
          "state": {
            "_view_name": "StyleView",
            "_model_name": "ProgressStyleModel",
            "description_width": "",
            "_view_module": "@jupyter-widgets/base",
            "_model_module_version": "1.5.0",
            "_view_count": null,
            "_view_module_version": "1.2.0",
            "bar_color": null,
            "_model_module": "@jupyter-widgets/controls"
          }
        },
        "f23f7be0a6704bd2aa6778deffa07967": {
          "model_module": "@jupyter-widgets/base",
          "model_name": "LayoutModel",
          "model_module_version": "1.2.0",
          "state": {
            "_view_name": "LayoutView",
            "grid_template_rows": null,
            "right": null,
            "justify_content": null,
            "_view_module": "@jupyter-widgets/base",
            "overflow": null,
            "_model_module_version": "1.2.0",
            "_view_count": null,
            "flex_flow": null,
            "width": null,
            "min_width": null,
            "border": null,
            "align_items": null,
            "bottom": null,
            "_model_module": "@jupyter-widgets/base",
            "top": null,
            "grid_column": null,
            "overflow_y": null,
            "overflow_x": null,
            "grid_auto_flow": null,
            "grid_area": null,
            "grid_template_columns": null,
            "flex": null,
            "_model_name": "LayoutModel",
            "justify_items": null,
            "grid_row": null,
            "max_height": null,
            "align_content": null,
            "visibility": null,
            "align_self": null,
            "height": null,
            "min_height": null,
            "padding": null,
            "grid_auto_rows": null,
            "grid_gap": null,
            "max_width": null,
            "order": null,
            "_view_module_version": "1.2.0",
            "grid_template_areas": null,
            "object_position": null,
            "object_fit": null,
            "grid_auto_columns": null,
            "margin": null,
            "display": null,
            "left": null
          }
        },
        "4b51a9d231db487985b19538227d382a": {
          "model_module": "@jupyter-widgets/controls",
          "model_name": "DescriptionStyleModel",
          "model_module_version": "1.5.0",
          "state": {
            "_view_name": "StyleView",
            "_model_name": "DescriptionStyleModel",
            "description_width": "",
            "_view_module": "@jupyter-widgets/base",
            "_model_module_version": "1.5.0",
            "_view_count": null,
            "_view_module_version": "1.2.0",
            "_model_module": "@jupyter-widgets/controls"
          }
        },
        "280452a72b7146b2b42432d48dfc7467": {
          "model_module": "@jupyter-widgets/base",
          "model_name": "LayoutModel",
          "model_module_version": "1.2.0",
          "state": {
            "_view_name": "LayoutView",
            "grid_template_rows": null,
            "right": null,
            "justify_content": null,
            "_view_module": "@jupyter-widgets/base",
            "overflow": null,
            "_model_module_version": "1.2.0",
            "_view_count": null,
            "flex_flow": null,
            "width": null,
            "min_width": null,
            "border": null,
            "align_items": null,
            "bottom": null,
            "_model_module": "@jupyter-widgets/base",
            "top": null,
            "grid_column": null,
            "overflow_y": null,
            "overflow_x": null,
            "grid_auto_flow": null,
            "grid_area": null,
            "grid_template_columns": null,
            "flex": null,
            "_model_name": "LayoutModel",
            "justify_items": null,
            "grid_row": null,
            "max_height": null,
            "align_content": null,
            "visibility": null,
            "align_self": null,
            "height": null,
            "min_height": null,
            "padding": null,
            "grid_auto_rows": null,
            "grid_gap": null,
            "max_width": null,
            "order": null,
            "_view_module_version": "1.2.0",
            "grid_template_areas": null,
            "object_position": null,
            "object_fit": null,
            "grid_auto_columns": null,
            "margin": null,
            "display": null,
            "left": null
          }
        },
        "7f117c79f36a4da0bb28e65ba1a43581": {
          "model_module": "@jupyter-widgets/controls",
          "model_name": "HBoxModel",
          "model_module_version": "1.5.0",
          "state": {
            "_view_name": "HBoxView",
            "_dom_classes": [],
            "_model_name": "HBoxModel",
            "_view_module": "@jupyter-widgets/controls",
            "_model_module_version": "1.5.0",
            "_view_count": null,
            "_view_module_version": "1.5.0",
            "box_style": "",
            "layout": "IPY_MODEL_988500b3f7ba4b0786c45cbd52ac63e5",
            "_model_module": "@jupyter-widgets/controls",
            "children": [
              "IPY_MODEL_e41549c7809943559fcb6ef3542770fd",
              "IPY_MODEL_b2f21ebc7c3c420492f8871c5fc0163b",
              "IPY_MODEL_8490c93efc1b493b81cf7f45ac17a17f"
            ]
          }
        },
        "988500b3f7ba4b0786c45cbd52ac63e5": {
          "model_module": "@jupyter-widgets/base",
          "model_name": "LayoutModel",
          "model_module_version": "1.2.0",
          "state": {
            "_view_name": "LayoutView",
            "grid_template_rows": null,
            "right": null,
            "justify_content": null,
            "_view_module": "@jupyter-widgets/base",
            "overflow": null,
            "_model_module_version": "1.2.0",
            "_view_count": null,
            "flex_flow": null,
            "width": null,
            "min_width": null,
            "border": null,
            "align_items": null,
            "bottom": null,
            "_model_module": "@jupyter-widgets/base",
            "top": null,
            "grid_column": null,
            "overflow_y": null,
            "overflow_x": null,
            "grid_auto_flow": null,
            "grid_area": null,
            "grid_template_columns": null,
            "flex": null,
            "_model_name": "LayoutModel",
            "justify_items": null,
            "grid_row": null,
            "max_height": null,
            "align_content": null,
            "visibility": null,
            "align_self": null,
            "height": null,
            "min_height": null,
            "padding": null,
            "grid_auto_rows": null,
            "grid_gap": null,
            "max_width": null,
            "order": null,
            "_view_module_version": "1.2.0",
            "grid_template_areas": null,
            "object_position": null,
            "object_fit": null,
            "grid_auto_columns": null,
            "margin": null,
            "display": null,
            "left": null
          }
        },
        "e41549c7809943559fcb6ef3542770fd": {
          "model_module": "@jupyter-widgets/controls",
          "model_name": "HTMLModel",
          "model_module_version": "1.5.0",
          "state": {
            "_view_name": "HTMLView",
            "style": "IPY_MODEL_7f02fe188c974598b92946fc2cf363ca",
            "_dom_classes": [],
            "description": "",
            "_model_name": "HTMLModel",
            "placeholder": "​",
            "_view_module": "@jupyter-widgets/controls",
            "_model_module_version": "1.5.0",
            "value": "",
            "_view_count": null,
            "_view_module_version": "1.5.0",
            "description_tooltip": null,
            "_model_module": "@jupyter-widgets/controls",
            "layout": "IPY_MODEL_3dda56a2fb394af48177de10cce36183"
          }
        },
        "b2f21ebc7c3c420492f8871c5fc0163b": {
          "model_module": "@jupyter-widgets/controls",
          "model_name": "FloatProgressModel",
          "model_module_version": "1.5.0",
          "state": {
            "_view_name": "ProgressView",
            "style": "IPY_MODEL_ed120b3d574c4c659012b24dc30af139",
            "_dom_classes": [],
            "description": "",
            "_model_name": "FloatProgressModel",
            "bar_style": "success",
            "max": 5148,
            "_view_module": "@jupyter-widgets/controls",
            "_model_module_version": "1.5.0",
            "value": 5148,
            "_view_count": null,
            "_view_module_version": "1.5.0",
            "orientation": "horizontal",
            "min": 0,
            "description_tooltip": null,
            "_model_module": "@jupyter-widgets/controls",
            "layout": "IPY_MODEL_87a3ccf29b674a8d96783c49c53d3078"
          }
        },
        "8490c93efc1b493b81cf7f45ac17a17f": {
          "model_module": "@jupyter-widgets/controls",
          "model_name": "HTMLModel",
          "model_module_version": "1.5.0",
          "state": {
            "_view_name": "HTMLView",
            "style": "IPY_MODEL_18a4187f6ab541b0aaaa6ed17c0bbf9c",
            "_dom_classes": [],
            "description": "",
            "_model_name": "HTMLModel",
            "placeholder": "​",
            "_view_module": "@jupyter-widgets/controls",
            "_model_module_version": "1.5.0",
            "value": " 6144/? [00:00&lt;00:00, 128113.65it/s]",
            "_view_count": null,
            "_view_module_version": "1.5.0",
            "description_tooltip": null,
            "_model_module": "@jupyter-widgets/controls",
            "layout": "IPY_MODEL_607348048e844ff0b99a86fc524d982a"
          }
        },
        "7f02fe188c974598b92946fc2cf363ca": {
          "model_module": "@jupyter-widgets/controls",
          "model_name": "DescriptionStyleModel",
          "model_module_version": "1.5.0",
          "state": {
            "_view_name": "StyleView",
            "_model_name": "DescriptionStyleModel",
            "description_width": "",
            "_view_module": "@jupyter-widgets/base",
            "_model_module_version": "1.5.0",
            "_view_count": null,
            "_view_module_version": "1.2.0",
            "_model_module": "@jupyter-widgets/controls"
          }
        },
        "3dda56a2fb394af48177de10cce36183": {
          "model_module": "@jupyter-widgets/base",
          "model_name": "LayoutModel",
          "model_module_version": "1.2.0",
          "state": {
            "_view_name": "LayoutView",
            "grid_template_rows": null,
            "right": null,
            "justify_content": null,
            "_view_module": "@jupyter-widgets/base",
            "overflow": null,
            "_model_module_version": "1.2.0",
            "_view_count": null,
            "flex_flow": null,
            "width": null,
            "min_width": null,
            "border": null,
            "align_items": null,
            "bottom": null,
            "_model_module": "@jupyter-widgets/base",
            "top": null,
            "grid_column": null,
            "overflow_y": null,
            "overflow_x": null,
            "grid_auto_flow": null,
            "grid_area": null,
            "grid_template_columns": null,
            "flex": null,
            "_model_name": "LayoutModel",
            "justify_items": null,
            "grid_row": null,
            "max_height": null,
            "align_content": null,
            "visibility": null,
            "align_self": null,
            "height": null,
            "min_height": null,
            "padding": null,
            "grid_auto_rows": null,
            "grid_gap": null,
            "max_width": null,
            "order": null,
            "_view_module_version": "1.2.0",
            "grid_template_areas": null,
            "object_position": null,
            "object_fit": null,
            "grid_auto_columns": null,
            "margin": null,
            "display": null,
            "left": null
          }
        },
        "ed120b3d574c4c659012b24dc30af139": {
          "model_module": "@jupyter-widgets/controls",
          "model_name": "ProgressStyleModel",
          "model_module_version": "1.5.0",
          "state": {
            "_view_name": "StyleView",
            "_model_name": "ProgressStyleModel",
            "description_width": "",
            "_view_module": "@jupyter-widgets/base",
            "_model_module_version": "1.5.0",
            "_view_count": null,
            "_view_module_version": "1.2.0",
            "bar_color": null,
            "_model_module": "@jupyter-widgets/controls"
          }
        },
        "87a3ccf29b674a8d96783c49c53d3078": {
          "model_module": "@jupyter-widgets/base",
          "model_name": "LayoutModel",
          "model_module_version": "1.2.0",
          "state": {
            "_view_name": "LayoutView",
            "grid_template_rows": null,
            "right": null,
            "justify_content": null,
            "_view_module": "@jupyter-widgets/base",
            "overflow": null,
            "_model_module_version": "1.2.0",
            "_view_count": null,
            "flex_flow": null,
            "width": null,
            "min_width": null,
            "border": null,
            "align_items": null,
            "bottom": null,
            "_model_module": "@jupyter-widgets/base",
            "top": null,
            "grid_column": null,
            "overflow_y": null,
            "overflow_x": null,
            "grid_auto_flow": null,
            "grid_area": null,
            "grid_template_columns": null,
            "flex": null,
            "_model_name": "LayoutModel",
            "justify_items": null,
            "grid_row": null,
            "max_height": null,
            "align_content": null,
            "visibility": null,
            "align_self": null,
            "height": null,
            "min_height": null,
            "padding": null,
            "grid_auto_rows": null,
            "grid_gap": null,
            "max_width": null,
            "order": null,
            "_view_module_version": "1.2.0",
            "grid_template_areas": null,
            "object_position": null,
            "object_fit": null,
            "grid_auto_columns": null,
            "margin": null,
            "display": null,
            "left": null
          }
        },
        "18a4187f6ab541b0aaaa6ed17c0bbf9c": {
          "model_module": "@jupyter-widgets/controls",
          "model_name": "DescriptionStyleModel",
          "model_module_version": "1.5.0",
          "state": {
            "_view_name": "StyleView",
            "_model_name": "DescriptionStyleModel",
            "description_width": "",
            "_view_module": "@jupyter-widgets/base",
            "_model_module_version": "1.5.0",
            "_view_count": null,
            "_view_module_version": "1.2.0",
            "_model_module": "@jupyter-widgets/controls"
          }
        },
        "607348048e844ff0b99a86fc524d982a": {
          "model_module": "@jupyter-widgets/base",
          "model_name": "LayoutModel",
          "model_module_version": "1.2.0",
          "state": {
            "_view_name": "LayoutView",
            "grid_template_rows": null,
            "right": null,
            "justify_content": null,
            "_view_module": "@jupyter-widgets/base",
            "overflow": null,
            "_model_module_version": "1.2.0",
            "_view_count": null,
            "flex_flow": null,
            "width": null,
            "min_width": null,
            "border": null,
            "align_items": null,
            "bottom": null,
            "_model_module": "@jupyter-widgets/base",
            "top": null,
            "grid_column": null,
            "overflow_y": null,
            "overflow_x": null,
            "grid_auto_flow": null,
            "grid_area": null,
            "grid_template_columns": null,
            "flex": null,
            "_model_name": "LayoutModel",
            "justify_items": null,
            "grid_row": null,
            "max_height": null,
            "align_content": null,
            "visibility": null,
            "align_self": null,
            "height": null,
            "min_height": null,
            "padding": null,
            "grid_auto_rows": null,
            "grid_gap": null,
            "max_width": null,
            "order": null,
            "_view_module_version": "1.2.0",
            "grid_template_areas": null,
            "object_position": null,
            "object_fit": null,
            "grid_auto_columns": null,
            "margin": null,
            "display": null,
            "left": null
          }
        }
      }
    }
  },
  "cells": [
    {
      "cell_type": "markdown",
      "metadata": {
        "id": "gXmCHcwKs6rd"
      },
      "source": [
        "# Validation"
      ]
    },
    {
      "cell_type": "code",
      "metadata": {
        "id": "PzCCniVwNTdp"
      },
      "source": [
        "# Setting seeds to try and ensure we have the same results - this is not guaranteed across PyTorch releases.\n",
        "import torch\n",
        "torch.manual_seed(0)\n",
        "torch.backends.cudnn.deterministic = True\n",
        "torch.backends.cudnn.benchmark = False\n",
        "\n",
        "import numpy as np\n",
        "np.random.seed(0)"
      ],
      "execution_count": null,
      "outputs": []
    },
    {
      "cell_type": "code",
      "metadata": {
        "id": "PCJzXv0OK1Bs",
        "colab": {
          "base_uri": "https://localhost:8080/",
          "height": 437,
          "referenced_widgets": [
            "a40e2d0f64e84e20b7455076aa79a039",
            "7f13cadc182a49b59abd301399c9a994",
            "a6cda3d68e0346b4a46e25bfae0acf33",
            "472aaffdbf5e4a218bdd10a7ec228490",
            "54a0b1084f49479088d662131589a28e",
            "c5468edcbaa147879b12e973b7859d15",
            "b61131f5067247a084ff72e162de01b0",
            "6e19fbc45b0f433ba6af0fbcaa57bfca",
            "a14393a49298475b89bfc7beb5c2c069",
            "50a81b9f3fb6444796e214f52a9c95ef",
            "7be3678ffbad4021ad34e1f35b26d478",
            "48433b28ddcd4a6b93fedfa252eada0d",
            "37b61687fbeb41ec9ab42754581d50a0",
            "ddf8e036da0240f09074e48d509feda5",
            "208995bffa5649a3b5792836da343846",
            "d5c455352bbf4ccaa4c0eab0e3b0e73f",
            "d76fcf4ee0bf45e4be4d3fd66b018c73",
            "4cd449a85d054e27afc4d9b2ea79171f",
            "60bd83ae122943b39fbd3d3abd20fc14",
            "b93d17b5871644989296b1fe80235070",
            "fad1f80cf6054387bc604750325141b4",
            "bb52ef91f1154108a77d5bd16b317c91",
            "127de83224e74d0a86deea9196841839",
            "910ca08e73474f43992864ff40a5b155",
            "bea44cbf087b4cc3a69417ae00b338bb",
            "45f59c63088c442f9102d7bcc5e43a53",
            "7071ca3698ee45ebb46e9bdbe7f77fa1",
            "66904e3b3ab9467e8e5a86733dd89d43",
            "e74bae2f91af4c4e8abfde8f6452419e",
            "f705b15e9abb4c448732a071841ba398",
            "f23f7be0a6704bd2aa6778deffa07967",
            "4b51a9d231db487985b19538227d382a",
            "280452a72b7146b2b42432d48dfc7467",
            "7f117c79f36a4da0bb28e65ba1a43581",
            "988500b3f7ba4b0786c45cbd52ac63e5",
            "e41549c7809943559fcb6ef3542770fd",
            "b2f21ebc7c3c420492f8871c5fc0163b",
            "8490c93efc1b493b81cf7f45ac17a17f",
            "7f02fe188c974598b92946fc2cf363ca",
            "3dda56a2fb394af48177de10cce36183",
            "ed120b3d574c4c659012b24dc30af139",
            "87a3ccf29b674a8d96783c49c53d3078",
            "18a4187f6ab541b0aaaa6ed17c0bbf9c",
            "607348048e844ff0b99a86fc524d982a"
          ]
        },
        "outputId": "b93c13b7-6c75-4fcf-b360-9ab3b74c3159"
      },
      "source": [
        "from torchvision import datasets, transforms\n",
        "import torch.nn.functional as F\n",
        "from torch import nn\n",
        "\n",
        "mean, std = (0.5,), (0.5,)\n",
        "\n",
        "# Create a transform and normalise data\n",
        "transform = transforms.Compose([transforms.ToTensor(),\n",
        "                                transforms.Normalize(mean, std)\n",
        "                              ])\n",
        "\n",
        "# Download FMNIST training dataset and load training data\n",
        "trainset = datasets.FashionMNIST('~/.pytorch/FMNIST/', download=True, train=True, transform=transform)\n",
        "trainloader = torch.utils.data.DataLoader(trainset, batch_size=64, shuffle=True)\n",
        "\n",
        "# Download FMNIST test dataset and load test data\n",
        "testset = datasets.FashionMNIST('~/.pytorch/FMNIST/', download=True, train=False, transform=transform)\n",
        "testloader = torch.utils.data.DataLoader(testset, batch_size=64, shuffle=False)"
      ],
      "execution_count": null,
      "outputs": [
        {
          "output_type": "stream",
          "name": "stdout",
          "text": [
            "Downloading http://fashion-mnist.s3-website.eu-central-1.amazonaws.com/train-images-idx3-ubyte.gz\n",
            "Downloading http://fashion-mnist.s3-website.eu-central-1.amazonaws.com/train-images-idx3-ubyte.gz to /root/.pytorch/FMNIST/FashionMNIST/raw/train-images-idx3-ubyte.gz\n"
          ]
        },
        {
          "output_type": "display_data",
          "data": {
            "application/vnd.jupyter.widget-view+json": {
              "model_id": "a40e2d0f64e84e20b7455076aa79a039",
              "version_minor": 0,
              "version_major": 2
            },
            "text/plain": [
              "  0%|          | 0/26421880 [00:00<?, ?it/s]"
            ]
          },
          "metadata": {}
        },
        {
          "output_type": "stream",
          "name": "stdout",
          "text": [
            "Extracting /root/.pytorch/FMNIST/FashionMNIST/raw/train-images-idx3-ubyte.gz to /root/.pytorch/FMNIST/FashionMNIST/raw\n",
            "\n",
            "Downloading http://fashion-mnist.s3-website.eu-central-1.amazonaws.com/train-labels-idx1-ubyte.gz\n",
            "Downloading http://fashion-mnist.s3-website.eu-central-1.amazonaws.com/train-labels-idx1-ubyte.gz to /root/.pytorch/FMNIST/FashionMNIST/raw/train-labels-idx1-ubyte.gz\n"
          ]
        },
        {
          "output_type": "display_data",
          "data": {
            "application/vnd.jupyter.widget-view+json": {
              "model_id": "48433b28ddcd4a6b93fedfa252eada0d",
              "version_minor": 0,
              "version_major": 2
            },
            "text/plain": [
              "  0%|          | 0/29515 [00:00<?, ?it/s]"
            ]
          },
          "metadata": {}
        },
        {
          "output_type": "stream",
          "name": "stdout",
          "text": [
            "Extracting /root/.pytorch/FMNIST/FashionMNIST/raw/train-labels-idx1-ubyte.gz to /root/.pytorch/FMNIST/FashionMNIST/raw\n",
            "\n",
            "Downloading http://fashion-mnist.s3-website.eu-central-1.amazonaws.com/t10k-images-idx3-ubyte.gz\n",
            "Downloading http://fashion-mnist.s3-website.eu-central-1.amazonaws.com/t10k-images-idx3-ubyte.gz to /root/.pytorch/FMNIST/FashionMNIST/raw/t10k-images-idx3-ubyte.gz\n"
          ]
        },
        {
          "output_type": "display_data",
          "data": {
            "application/vnd.jupyter.widget-view+json": {
              "model_id": "127de83224e74d0a86deea9196841839",
              "version_minor": 0,
              "version_major": 2
            },
            "text/plain": [
              "  0%|          | 0/4422102 [00:00<?, ?it/s]"
            ]
          },
          "metadata": {}
        },
        {
          "output_type": "stream",
          "name": "stdout",
          "text": [
            "Extracting /root/.pytorch/FMNIST/FashionMNIST/raw/t10k-images-idx3-ubyte.gz to /root/.pytorch/FMNIST/FashionMNIST/raw\n",
            "\n",
            "Downloading http://fashion-mnist.s3-website.eu-central-1.amazonaws.com/t10k-labels-idx1-ubyte.gz\n",
            "Downloading http://fashion-mnist.s3-website.eu-central-1.amazonaws.com/t10k-labels-idx1-ubyte.gz to /root/.pytorch/FMNIST/FashionMNIST/raw/t10k-labels-idx1-ubyte.gz\n"
          ]
        },
        {
          "output_type": "display_data",
          "data": {
            "application/vnd.jupyter.widget-view+json": {
              "model_id": "7f117c79f36a4da0bb28e65ba1a43581",
              "version_minor": 0,
              "version_major": 2
            },
            "text/plain": [
              "  0%|          | 0/5148 [00:00<?, ?it/s]"
            ]
          },
          "metadata": {}
        },
        {
          "output_type": "stream",
          "name": "stdout",
          "text": [
            "Extracting /root/.pytorch/FMNIST/FashionMNIST/raw/t10k-labels-idx1-ubyte.gz to /root/.pytorch/FMNIST/FashionMNIST/raw\n",
            "\n"
          ]
        }
      ]
    },
    {
      "cell_type": "code",
      "metadata": {
        "id": "rqMqFbIVrbFH"
      },
      "source": [
        "class FMNIST(nn.Module):\n",
        "  def __init__(self):\n",
        "    super().__init__()\n",
        "    self.fc1 = nn.Linear(784, 128)\n",
        "    self.fc2 = nn.Linear(128,64)\n",
        "    self.fc3 = nn.Linear(64,10)\n",
        "    \n",
        "  def forward(self, x):\n",
        "    x = x.view(x.shape[0], -1)\n",
        "    \n",
        "    x = F.relu(self.fc1(x))\n",
        "    x = F.relu(self.fc2(x))\n",
        "    x = self.fc3(x)\n",
        "    x = F.log_softmax(x, dim=1)\n",
        "    \n",
        "    return x\n",
        "\n",
        "model = FMNIST()"
      ],
      "execution_count": null,
      "outputs": []
    },
    {
      "cell_type": "code",
      "metadata": {
        "id": "oNNyI5YRZ7H1",
        "colab": {
          "base_uri": "https://localhost:8080/"
        },
        "outputId": "875dd9a8-665e-4f76-91ae-9deb25357b31"
      },
      "source": [
        "from torch import optim\n",
        "\n",
        "criterion = nn.NLLLoss()\n",
        "optimizer = optim.SGD(model.parameters(), lr=0.01)\n",
        "\n",
        "num_epochs = 3\n",
        "\n",
        "for i in range(num_epochs):\n",
        "    cum_loss = 0\n",
        "\n",
        "    for images, labels in trainloader:\n",
        "        optimizer.zero_grad()\n",
        "        output = model(images)\n",
        "        loss = criterion(output, labels)\n",
        "        loss.backward()\n",
        "        optimizer.step()\n",
        "        \n",
        "        cum_loss += loss.item()\n",
        "     \n",
        "    print(f\"Training loss: {cum_loss/len(trainloader)}\")"
      ],
      "execution_count": null,
      "outputs": [
        {
          "output_type": "stream",
          "name": "stdout",
          "text": [
            "Training loss: 1.0341349975513752\n",
            "Training loss: 0.5616475922593684\n",
            "Training loss: 0.49201103581040145\n"
          ]
        }
      ]
    },
    {
      "cell_type": "code",
      "metadata": {
        "id": "UWYw7ZOzsS8U"
      },
      "source": [
        "import matplotlib.pyplot as plt\n",
        "%matplotlib inline\n",
        "\n",
        "images, labels = next(iter(testloader))\n",
        "\n",
        "test_image_id = 0 \n",
        "img = images[test_image_id].view(1, 784) \n",
        "\n",
        "with torch.no_grad():\n",
        "    logps = model(img)"
      ],
      "execution_count": null,
      "outputs": []
    },
    {
      "cell_type": "code",
      "metadata": {
        "id": "2tRjoEDSqY8X",
        "colab": {
          "base_uri": "https://localhost:8080/"
        },
        "outputId": "9c3ac58b-7123-4c32-f887-0c741a6ec470"
      },
      "source": [
        "ps = torch.exp(logps)\n",
        "ps"
      ],
      "execution_count": null,
      "outputs": [
        {
          "output_type": "execute_result",
          "data": {
            "text/plain": [
              "tensor([[2.4147e-06, 9.3966e-07, 1.3331e-05, 2.6042e-06, 6.9758e-06, 1.0339e-01,\n",
              "         6.1020e-06, 5.2014e-01, 5.0762e-03, 3.7136e-01]])"
            ]
          },
          "metadata": {},
          "execution_count": 6
        }
      ]
    },
    {
      "cell_type": "code",
      "metadata": {
        "id": "dpP_RLV-qkc6",
        "colab": {
          "base_uri": "https://localhost:8080/"
        },
        "outputId": "6901dac3-e6be-4c38-c371-7eb6e0d7b962"
      },
      "source": [
        "nps = ps.numpy()[0]\n",
        "nps"
      ],
      "execution_count": null,
      "outputs": [
        {
          "output_type": "execute_result",
          "data": {
            "text/plain": [
              "array([2.4147239e-06, 9.3966287e-07, 1.3331361e-05, 2.6041751e-06,\n",
              "       6.9758166e-06, 1.0338773e-01, 6.1020455e-06, 5.2014059e-01,\n",
              "       5.0762082e-03, 3.7136310e-01], dtype=float32)"
            ]
          },
          "metadata": {},
          "execution_count": 7
        }
      ]
    },
    {
      "cell_type": "code",
      "metadata": {
        "id": "kBf23XrtqrB6",
        "colab": {
          "base_uri": "https://localhost:8080/",
          "height": 332
        },
        "outputId": "d4e2013c-6e5a-4bea-fa42-c4aefc1bb215"
      },
      "source": [
        "FMNIST_labels = ['T-shirt/top','Trouser','Pullover','Dress','Coat','Sandal','Shirt','Sport Shoes','Bag','Ankle Boots']\n",
        "plt.xticks(np.arange(10),labels=FMNIST_labels,rotation='vertical')\n",
        "plt.bar(np.arange(10), nps)"
      ],
      "execution_count": null,
      "outputs": [
        {
          "output_type": "execute_result",
          "data": {
            "text/plain": [
              "<BarContainer object of 10 artists>"
            ]
          },
          "metadata": {},
          "execution_count": 8
        },
        {
          "output_type": "display_data",
          "data": {
            "image/png": "[encoded data removed]",
            "text/plain": [
              "<Figure size 432x288 with 1 Axes>"
            ]
          },
          "metadata": {
            "needs_background": "light"
          }
        }
      ]
    },
    {
      "cell_type": "code",
      "metadata": {
        "id": "Y7gY5hARpOp4",
        "colab": {
          "base_uri": "https://localhost:8080/",
          "height": 282
        },
        "outputId": "ecb6d76b-5c80-4969-c729-bf247d49da8d"
      },
      "source": [
        "def denormalize(tensor):\n",
        "  tensor = tensor*0.5 + 0.5\n",
        "  return tensor\n",
        "  \n",
        "img = img.view(28,-1)\n",
        "img = denormalize(img)\n",
        "plt.imshow(img,cmap='gray')"
      ],
      "execution_count": null,
      "outputs": [
        {
          "output_type": "execute_result",
          "data": {
            "text/plain": [
              "<matplotlib.image.AxesImage at 0x7f251bc16b10>"
            ]
          },
          "metadata": {},
          "execution_count": 9
        },
        {
          "output_type": "display_data",
          "data": {
            "image/png": "[encoded data removed]",
            "text/plain": [
              "<Figure size 432x288 with 1 Axes>"
            ]
          },
          "metadata": {
            "needs_background": "light"
          }
        }
      ]
    },
    {
      "cell_type": "code",
      "metadata": {
        "id": "AxTiil7cXOAz",
        "colab": {
          "base_uri": "https://localhost:8080/"
        },
        "outputId": "6bd9a2c6-5012-4456-dbd8-4d9d7a754534"
      },
      "source": [
        "with torch.no_grad():\n",
        "    num_correct = 0\n",
        "    total = 0\n",
        "\n",
        "    cnt = 0\n",
        "    for images, labels in testloader:\n",
        "        \n",
        "        logps = model(images)\n",
        "        output = torch.exp(logps)\n",
        "        print(output)\n",
        "        cnt+=1\n",
        "        \n",
        "        if cnt > 0:\n",
        "          break"
      ],
      "execution_count": null,
      "outputs": [
        {
          "output_type": "stream",
          "name": "stdout",
          "text": [
            "tensor([[2.4147e-06, 9.3966e-07, 1.3331e-05, 2.6042e-06, 6.9758e-06, 1.0339e-01,\n",
            "         6.1020e-06, 5.2014e-01, 5.0762e-03, 3.7136e-01],\n",
            "        [7.0065e-04, 5.7844e-05, 9.5016e-01, 9.0806e-05, 1.4368e-02, 5.8274e-06,\n",
            "         3.4279e-02, 4.7315e-09, 3.3531e-04, 2.0505e-07],\n",
            "        [6.2973e-06, 9.9988e-01, 2.1782e-05, 5.9295e-05, 3.0819e-05, 1.0195e-08,\n",
            "         7.5068e-08, 4.4480e-07, 1.5312e-09, 4.3645e-09],\n",
            "        [1.7397e-06, 9.9970e-01, 2.6714e-05, 2.4845e-04, 2.4004e-05, 7.6634e-08,\n",
            "         6.2778e-08, 1.9992e-06, 3.8013e-09, 2.5508e-08],\n",
            "        [1.2300e-01, 1.4104e-03, 2.5360e-01, 1.6446e-02, 1.6410e-02, 2.5767e-04,\n",
            "         5.8256e-01, 2.1697e-06, 6.2983e-03, 1.1541e-05],\n",
            "        [8.3767e-04, 9.9298e-01, 6.5921e-04, 1.4443e-03, 4.0207e-03, 2.5630e-07,\n",
            "         4.9226e-05, 3.9015e-06, 4.6262e-07, 1.2182e-07],\n",
            "        [1.3166e-02, 2.5694e-03, 1.0320e-01, 1.2752e-03, 7.5368e-01, 1.3873e-04,\n",
            "         1.2434e-01, 1.6644e-06, 1.6258e-03, 1.1655e-06],\n",
            "        [7.0272e-03, 9.2986e-04, 1.8345e-01, 4.3196e-03, 2.1536e-01, 4.8998e-04,\n",
            "         5.7840e-01, 1.4705e-06, 1.0019e-02, 6.2153e-06],\n",
            "        [1.2300e-02, 8.7748e-03, 3.4876e-02, 3.9956e-02, 6.2894e-03, 6.1154e-01,\n",
            "         1.1443e-02, 2.4663e-01, 2.6729e-02, 1.4649e-03],\n",
            "        [7.7509e-06, 8.3285e-06, 1.1081e-05, 4.3244e-05, 2.4025e-05, 9.6077e-03,\n",
            "         6.2331e-06, 9.8832e-01, 8.9428e-04, 1.0777e-03],\n",
            "        [6.2813e-04, 2.5374e-02, 5.1977e-01, 1.1566e-03, 4.1756e-01, 4.4349e-05,\n",
            "         3.5307e-02, 4.1419e-07, 1.5414e-04, 3.4610e-06],\n",
            "        [1.0918e-04, 8.0747e-05, 1.3711e-03, 1.2868e-04, 4.2447e-04, 6.5338e-01,\n",
            "         3.2438e-04, 2.7706e-01, 1.4933e-02, 5.2183e-02],\n",
            "        [3.9292e-04, 2.8196e-04, 4.9494e-03, 3.4885e-03, 1.9369e-03, 7.5590e-01,\n",
            "         1.0135e-03, 1.2769e-01, 1.0316e-01, 1.1872e-03],\n",
            "        [1.3453e-03, 4.9736e-03, 2.7232e-04, 9.9064e-01, 3.0865e-04, 3.5011e-06,\n",
            "         3.8471e-04, 1.6181e-03, 4.3485e-04, 1.6133e-05],\n",
            "        [3.9749e-04, 1.5346e-04, 3.5255e-02, 6.2224e-04, 8.9732e-01, 5.7146e-06,\n",
            "         6.1552e-02, 2.5304e-07, 4.6928e-03, 2.1614e-06],\n",
            "        [1.1760e-04, 9.8983e-01, 4.0591e-04, 9.2606e-03, 3.5992e-04, 4.2646e-07,\n",
            "         9.5633e-06, 1.1907e-05, 2.4050e-07, 2.4754e-07],\n",
            "        [6.0485e-02, 1.6047e-02, 8.0610e-01, 5.1450e-03, 2.1847e-02, 4.9145e-04,\n",
            "         8.9239e-02, 1.4322e-06, 6.3814e-04, 4.9529e-06],\n",
            "        [2.2518e-02, 3.9226e-04, 4.0630e-01, 2.3287e-03, 1.9548e-01, 4.3697e-05,\n",
            "         3.6433e-01, 3.3793e-07, 8.6068e-03, 3.6026e-06],\n",
            "        [5.7983e-04, 7.9507e-06, 4.3222e-03, 7.8416e-05, 2.0253e-03, 7.9146e-03,\n",
            "         2.7402e-03, 2.2681e-03, 9.7809e-01, 1.9768e-03],\n",
            "        [9.4732e-01, 9.4156e-05, 3.2620e-03, 3.0786e-03, 1.0989e-04, 8.1746e-08,\n",
            "         4.6103e-02, 5.3967e-09, 3.6794e-05, 8.2270e-09],\n",
            "        [4.0692e-01, 1.5448e-02, 2.5543e-01, 1.8914e-02, 3.7172e-02, 1.5690e-03,\n",
            "         2.4798e-01, 7.2514e-05, 1.5985e-02, 5.1429e-04],\n",
            "        [2.5858e-05, 7.8007e-05, 3.4841e-04, 2.0439e-04, 2.9014e-04, 2.7812e-01,\n",
            "         5.1678e-05, 7.0844e-01, 8.8758e-03, 3.5614e-03],\n",
            "        [5.1019e-08, 3.2737e-07, 6.8187e-07, 6.5408e-07, 1.3776e-06, 7.0292e-03,\n",
            "         6.9923e-08, 9.8692e-01, 3.2458e-04, 5.7228e-03],\n",
            "        [5.0195e-06, 4.3737e-06, 2.0514e-05, 9.6960e-06, 9.3087e-06, 1.6071e-01,\n",
            "         3.8397e-06, 8.0404e-01, 1.3900e-03, 3.3801e-02],\n",
            "        [1.8979e-06, 9.9976e-01, 1.4954e-05, 1.9973e-04, 1.7551e-05, 8.8759e-08,\n",
            "         3.9272e-08, 4.1031e-06, 4.1641e-09, 2.4736e-08],\n",
            "        [3.8884e-03, 4.2081e-03, 8.8137e-01, 1.1811e-02, 3.4847e-02, 2.0000e-03,\n",
            "         5.7666e-02, 4.8342e-06, 4.1990e-03, 5.6242e-06],\n",
            "        [1.2284e-03, 2.2867e-04, 1.7485e-01, 5.4565e-04, 4.1538e-01, 2.1810e-05,\n",
            "         4.0478e-01, 6.4508e-08, 2.9556e-03, 3.2182e-06],\n",
            "        [4.6269e-01, 3.5276e-02, 1.2059e-02, 3.9831e-01, 3.1885e-02, 2.1068e-07,\n",
            "         5.9599e-02, 3.6916e-06, 1.8324e-04, 3.3673e-07],\n",
            "        [6.1580e-07, 1.4286e-07, 1.8831e-06, 3.4445e-07, 1.6122e-06, 1.4476e-02,\n",
            "         9.7890e-07, 3.8185e-01, 3.4676e-03, 6.0020e-01],\n",
            "        [7.3507e-02, 2.4443e-03, 1.0389e-02, 2.1785e-01, 3.9662e-01, 1.3600e-06,\n",
            "         2.9396e-01, 1.1360e-05, 5.2186e-03, 1.8733e-06],\n",
            "        [5.3719e-06, 1.0783e-07, 1.1941e-04, 1.4655e-05, 5.9715e-04, 6.6406e-04,\n",
            "         1.5914e-04, 2.4364e-04, 9.9808e-01, 1.1703e-04],\n",
            "        [1.3176e-02, 2.7147e-05, 9.3382e-03, 3.8664e-02, 3.1150e-03, 6.7650e-04,\n",
            "         3.1526e-02, 1.0488e-04, 9.0334e-01, 3.1217e-05],\n",
            "        [7.3008e-03, 9.1781e-03, 5.0765e-03, 9.5722e-01, 4.9609e-03, 2.5979e-04,\n",
            "         7.5682e-03, 2.4963e-03, 5.8869e-03, 5.4468e-05],\n",
            "        [5.3089e-02, 9.4360e-04, 2.0121e-02, 8.4582e-01, 8.9302e-03, 6.1731e-07,\n",
            "         6.9185e-02, 5.0406e-06, 1.9014e-03, 3.3618e-07],\n",
            "        [3.3013e-04, 6.6039e-06, 1.2306e-02, 2.6178e-03, 1.3880e-03, 3.1339e-03,\n",
            "         3.4047e-03, 1.6420e-04, 9.7661e-01, 3.8881e-05],\n",
            "        [7.2496e-01, 8.2402e-04, 2.7222e-02, 3.6997e-02, 1.5312e-03, 3.7715e-05,\n",
            "         2.0725e-01, 1.9238e-06, 1.1751e-03, 9.1528e-07],\n",
            "        [1.9960e-06, 7.9441e-06, 3.5968e-06, 8.4115e-06, 1.3648e-05, 5.4966e-03,\n",
            "         1.4782e-06, 9.9251e-01, 2.2250e-04, 1.7381e-03],\n",
            "        [2.4221e-03, 8.8461e-04, 6.3519e-03, 5.1308e-03, 7.8128e-04, 8.7871e-01,\n",
            "         3.4248e-03, 9.3652e-02, 7.4663e-03, 1.1749e-03],\n",
            "        [1.1324e-06, 8.2512e-06, 7.7593e-06, 5.7373e-06, 2.6075e-05, 5.9796e-03,\n",
            "         1.2712e-06, 9.9174e-01, 3.9501e-04, 1.8323e-03],\n",
            "        [5.6722e-08, 1.0651e-08, 1.5962e-07, 1.3174e-08, 8.7614e-08, 2.2534e-03,\n",
            "         1.1873e-07, 3.1185e-02, 3.3021e-04, 9.6623e-01],\n",
            "        [6.5447e-01, 1.3094e-05, 1.9041e-03, 2.6850e-03, 9.2511e-04, 5.7866e-08,\n",
            "         3.3976e-01, 7.4168e-09, 2.4225e-04, 3.6753e-08],\n",
            "        [3.3361e-06, 9.9980e-01, 1.4137e-05, 1.3604e-04, 4.1923e-05, 1.7848e-08,\n",
            "         8.0468e-08, 6.1674e-06, 2.3064e-09, 5.4810e-08],\n",
            "        [1.7865e-01, 8.8918e-03, 6.8787e-02, 2.2754e-01, 2.2530e-01, 2.4217e-06,\n",
            "         2.8792e-01, 2.0337e-06, 2.9113e-03, 3.9800e-07],\n",
            "        [1.4128e-07, 6.4166e-08, 2.8253e-07, 3.5704e-08, 1.5301e-07, 1.2205e-02,\n",
            "         1.0866e-07, 4.4047e-01, 1.3179e-04, 5.4719e-01],\n",
            "        [3.5611e-03, 1.2338e-04, 1.8932e-01, 1.5997e-03, 2.4055e-01, 3.9223e-06,\n",
            "         5.6301e-01, 1.2065e-08, 1.8408e-03, 1.6621e-07],\n",
            "        [3.1041e-04, 6.0778e-05, 5.9597e-04, 2.5861e-04, 1.8253e-04, 3.6997e-01,\n",
            "         4.2179e-04, 5.5491e-01, 1.9560e-02, 5.3730e-02],\n",
            "        [2.3337e-02, 1.0129e-03, 8.0662e-01, 2.6791e-03, 1.9802e-02, 4.4264e-05,\n",
            "         1.4485e-01, 1.0473e-07, 1.6557e-03, 2.7220e-06],\n",
            "        [3.7678e-04, 9.6602e-01, 4.7038e-04, 3.2049e-02, 9.9916e-04, 2.2464e-07,\n",
            "         2.2972e-05, 6.3626e-05, 7.4323e-07, 7.6384e-07],\n",
            "        [1.0471e-03, 3.4921e-02, 6.8000e-01, 9.2210e-03, 2.5196e-01, 3.0207e-04,\n",
            "         2.1773e-02, 4.0894e-06, 7.6894e-04, 4.1545e-06],\n",
            "        [6.4761e-03, 2.4559e-04, 3.0049e-01, 2.3833e-03, 7.9787e-02, 4.5618e-05,\n",
            "         6.0622e-01, 9.2122e-08, 4.3473e-03, 1.9974e-06],\n",
            "        [1.0959e-02, 5.9999e-04, 3.1282e-01, 8.9508e-04, 4.1888e-01, 7.2697e-05,\n",
            "         2.4775e-01, 4.5786e-07, 8.0188e-03, 7.2393e-06],\n",
            "        [4.9981e-03, 1.3441e-03, 8.1335e-01, 2.7963e-03, 3.1558e-02, 1.3426e-03,\n",
            "         1.4245e-01, 8.4935e-07, 2.1580e-03, 1.9869e-06],\n",
            "        [3.9649e-03, 3.9251e-03, 1.2369e-02, 1.1277e-02, 1.3049e-03, 6.9422e-01,\n",
            "         3.4140e-03, 2.5568e-01, 8.2483e-03, 5.5978e-03],\n",
            "        [5.1056e-02, 1.7659e-04, 1.4765e-01, 1.8170e-03, 2.3812e-02, 3.3875e-03,\n",
            "         5.3434e-01, 1.1634e-05, 2.3669e-01, 1.0685e-03],\n",
            "        [8.2511e-03, 4.0813e-02, 6.1900e-01, 2.4095e-02, 2.6978e-01, 4.1799e-05,\n",
            "         3.6924e-02, 1.9765e-06, 1.0985e-03, 1.2830e-06],\n",
            "        [4.5543e-02, 1.9882e-03, 8.8146e-01, 1.6872e-03, 7.6630e-03, 1.1264e-04,\n",
            "         6.0035e-02, 2.2846e-07, 1.4991e-03, 6.4006e-06],\n",
            "        [3.8640e-04, 6.6875e-07, 1.3208e-03, 3.6026e-05, 2.7952e-03, 3.3481e-04,\n",
            "         2.2564e-03, 8.6187e-05, 9.9273e-01, 5.1372e-05],\n",
            "        [4.6858e-04, 4.9911e-04, 5.2281e-01, 1.1343e-03, 3.8063e-01, 2.5085e-05,\n",
            "         9.2519e-02, 1.4753e-07, 1.9096e-03, 1.1589e-06],\n",
            "        [3.1182e-04, 3.9095e-07, 1.0705e-03, 2.2538e-05, 1.0718e-03, 6.3928e-04,\n",
            "         2.0378e-03, 1.5571e-04, 9.9462e-01, 7.4525e-05],\n",
            "        [8.0345e-01, 1.9906e-02, 4.8953e-02, 3.3998e-02, 3.7228e-03, 1.6489e-04,\n",
            "         8.9285e-02, 1.8639e-05, 4.9290e-04, 6.7910e-06],\n",
            "        [8.1565e-07, 1.8938e-06, 2.3536e-06, 4.2872e-06, 3.6365e-06, 7.6202e-03,\n",
            "         6.3917e-07, 9.9095e-01, 1.5398e-04, 1.2637e-03],\n",
            "        [3.0943e-07, 5.6624e-07, 1.9232e-06, 2.2653e-06, 3.3821e-06, 1.4488e-02,\n",
            "         4.5614e-07, 9.7040e-01, 1.1985e-03, 1.3909e-02],\n",
            "        [1.2274e-06, 1.0660e-06, 2.1004e-04, 1.3128e-05, 1.1649e-03, 5.3743e-03,\n",
            "         3.4354e-05, 7.7583e-03, 9.8278e-01, 2.6578e-03],\n",
            "        [6.7632e-04, 1.7985e-04, 2.8996e-03, 7.1818e-04, 3.1935e-04, 9.4931e-01,\n",
            "         1.2785e-03, 3.3947e-02, 7.5370e-03, 3.1309e-03]])\n"
          ]
        }
      ]
    },
    {
      "cell_type": "code",
      "metadata": {
        "id": "6Ij_wa7paveM"
      },
      "source": [
        "with torch.no_grad():\n",
        "    num_correct = 0\n",
        "    total = 0\n",
        "\n",
        "    #set_trace()\n",
        "    for images, labels in testloader:\n",
        "        \n",
        "        logps = model(images)\n",
        "        output = torch.exp(logps)\n",
        "        \n",
        "        pred = torch.argmax(output, 1)\n",
        "        total += labels.size(0)\n"
      ],
      "execution_count": null,
      "outputs": []
    },
    {
      "cell_type": "code",
      "metadata": {
        "id": "nyxadgAyiRqg",
        "colab": {
          "base_uri": "https://localhost:8080/"
        },
        "outputId": "dd08535b-35b0-4dc4-d96b-034f716fa358"
      },
      "source": [
        "pred, labels"
      ],
      "execution_count": null,
      "outputs": [
        {
          "output_type": "execute_result",
          "data": {
            "text/plain": [
              "(tensor([3, 1, 7, 5, 8, 2, 5, 2, 8, 9, 1, 9, 1, 8, 1, 5]),\n",
              " tensor([3, 2, 7, 5, 8, 4, 5, 6, 8, 9, 1, 9, 1, 8, 1, 5]))"
            ]
          },
          "metadata": {},
          "execution_count": 12
        }
      ]
    },
    {
      "cell_type": "code",
      "metadata": {
        "id": "ojLPwZLdi3OX",
        "colab": {
          "base_uri": "https://localhost:8080/"
        },
        "outputId": "e43d921f-0bd5-4cf3-bbfa-04b8ed083294"
      },
      "source": [
        "pred == labels"
      ],
      "execution_count": null,
      "outputs": [
        {
          "output_type": "execute_result",
          "data": {
            "text/plain": [
              "tensor([ True, False,  True,  True,  True, False,  True, False,  True,  True,\n",
              "         True,  True,  True,  True,  True,  True])"
            ]
          },
          "metadata": {},
          "execution_count": 13
        }
      ]
    },
    {
      "cell_type": "code",
      "metadata": {
        "id": "6V-3r9n-iCMb",
        "colab": {
          "base_uri": "https://localhost:8080/"
        },
        "outputId": "320aa182-157f-474d-9087-7969313fc9c2"
      },
      "source": [
        "with torch.no_grad():\n",
        "    num_correct = 0\n",
        "    total = 0\n",
        "\n",
        "    #set_trace()\n",
        "    for images, labels in testloader:\n",
        "        \n",
        "        logps = model(images)\n",
        "        output = torch.exp(logps)\n",
        "        \n",
        "        pred = torch.argmax(output, 1)\n",
        "        total += labels.size(0)\n",
        "        num_correct += (pred == labels).sum().item()\n",
        "\n",
        "    print(f'Accuracy of the model on the 10000 test images: {num_correct * 100 / total}% ')"
      ],
      "execution_count": null,
      "outputs": [
        {
          "output_type": "stream",
          "name": "stdout",
          "text": [
            "Accuracy of the model on the 10000 test images: 81.68% \n"
          ]
        }
      ]
    },
    {
      "cell_type": "code",
      "metadata": {
        "id": "2VNQH0g6F8xH"
      },
      "source": [
        ""
      ],
      "execution_count": null,
      "outputs": []
    }
  ]
}