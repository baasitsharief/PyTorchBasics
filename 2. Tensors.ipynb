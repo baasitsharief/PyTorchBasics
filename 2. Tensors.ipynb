{
  "nbformat": 4,
  "nbformat_minor": 0,
  "metadata": {
    "colab": {
      "name": "Tensors_1.ipynb",
      "provenance": [],
      "collapsed_sections": []
    },
    "kernelspec": {
      "display_name": "Python 3",
      "language": "python",
      "name": "python3"
    },
    "language_info": {
      "codemirror_mode": {
        "name": "ipython",
        "version": 3
      },
      "file_extension": ".py",
      "mimetype": "text/x-python",
      "name": "python",
      "nbconvert_exporter": "python",
      "pygments_lexer": "ipython3",
      "version": "3.6.8"
    }
  },
  "cells": [
    {
      "cell_type": "markdown",
      "metadata": {
        "id": "LFNM3-HxkJtN"
      },
      "source": [
        "# Tensors "
      ]
    },
    {
      "cell_type": "code",
      "metadata": {
        "id": "IkXveXITKBst"
      },
      "source": [
        "import torch"
      ],
      "execution_count": null,
      "outputs": []
    },
    {
      "cell_type": "markdown",
      "metadata": {
        "id": "0ipN4cH3zsO8"
      },
      "source": [
        "## zeros()"
      ]
    },
    {
      "cell_type": "code",
      "metadata": {
        "id": "z_fJogRyKDr0",
        "colab": {
          "base_uri": "https://localhost:8080/"
        },
        "outputId": "b32e1052-f603-487b-eca4-357505f3b355"
      },
      "source": [
        "w = torch.zeros(4,3)\n",
        "w"
      ],
      "execution_count": null,
      "outputs": [
        {
          "output_type": "execute_result",
          "data": {
            "text/plain": [
              "tensor([[0., 0., 0.],\n",
              "        [0., 0., 0.],\n",
              "        [0., 0., 0.],\n",
              "        [0., 0., 0.]])"
            ]
          },
          "metadata": {},
          "execution_count": 2
        }
      ]
    },
    {
      "cell_type": "code",
      "metadata": {
        "id": "gVdaTJb-KDkE"
      },
      "source": [
        ""
      ],
      "execution_count": null,
      "outputs": []
    },
    {
      "cell_type": "markdown",
      "metadata": {
        "id": "Jl7s1b1pz4Vb"
      },
      "source": [
        "## size() and shape"
      ]
    },
    {
      "cell_type": "code",
      "metadata": {
        "id": "1_Q-KIOPKK78",
        "colab": {
          "base_uri": "https://localhost:8080/"
        },
        "outputId": "29815853-7b8d-4bdf-ec9d-62f0b0c18c36"
      },
      "source": [
        "w.size()"
      ],
      "execution_count": null,
      "outputs": [
        {
          "output_type": "execute_result",
          "data": {
            "text/plain": [
              "torch.Size([4, 3])"
            ]
          },
          "metadata": {},
          "execution_count": 3
        }
      ]
    },
    {
      "cell_type": "code",
      "metadata": {
        "id": "z1_a3ed1KK49",
        "colab": {
          "base_uri": "https://localhost:8080/"
        },
        "outputId": "45899e65-2fed-4c18-f9ed-c19121f15e6d"
      },
      "source": [
        "w.shape"
      ],
      "execution_count": null,
      "outputs": [
        {
          "output_type": "execute_result",
          "data": {
            "text/plain": [
              "torch.Size([4, 3])"
            ]
          },
          "metadata": {},
          "execution_count": 4
        }
      ]
    },
    {
      "cell_type": "code",
      "metadata": {
        "id": "K_yYV8EtKKzU"
      },
      "source": [
        ""
      ],
      "execution_count": null,
      "outputs": []
    },
    {
      "cell_type": "markdown",
      "metadata": {
        "id": "6OZJGG9w0DL6"
      },
      "source": [
        "## randn() and randn_like()"
      ]
    },
    {
      "cell_type": "code",
      "metadata": {
        "id": "pElZxDIKKPoc",
        "colab": {
          "base_uri": "https://localhost:8080/"
        },
        "outputId": "16818029-d073-4201-ddef-ce766e32585e"
      },
      "source": [
        "w = torch.randn(4,3)\n",
        "w"
      ],
      "execution_count": null,
      "outputs": [
        {
          "output_type": "execute_result",
          "data": {
            "text/plain": [
              "tensor([[-2.3249, -0.8446,  0.5649],\n",
              "        [ 0.2339, -0.1939, -2.1444],\n",
              "        [-0.2087,  0.1349, -1.0265],\n",
              "        [ 0.3023,  0.0678,  0.9715]])"
            ]
          },
          "metadata": {},
          "execution_count": 5
        }
      ]
    },
    {
      "cell_type": "code",
      "metadata": {
        "id": "LDzpInhlKPl0"
      },
      "source": [
        "t = torch.randn_like(w)"
      ],
      "execution_count": null,
      "outputs": []
    },
    {
      "cell_type": "code",
      "metadata": {
        "id": "Vx_9rDU4KPiE",
        "colab": {
          "base_uri": "https://localhost:8080/"
        },
        "outputId": "d367cac7-100f-412a-f19d-ce72e55ed457"
      },
      "source": [
        "t"
      ],
      "execution_count": null,
      "outputs": [
        {
          "output_type": "execute_result",
          "data": {
            "text/plain": [
              "tensor([[-0.4981, -0.6681,  0.3445],\n",
              "        [ 0.2837, -0.3213,  0.0912],\n",
              "        [-1.1343,  1.4955,  0.2378],\n",
              "        [-0.5464, -0.4939, -0.2708]])"
            ]
          },
          "metadata": {},
          "execution_count": 7
        }
      ]
    },
    {
      "cell_type": "markdown",
      "metadata": {
        "id": "3rshy4Vq0Jft"
      },
      "source": [
        "## fill_()"
      ]
    },
    {
      "cell_type": "code",
      "metadata": {
        "id": "YH1cBgIoKXGr",
        "colab": {
          "base_uri": "https://localhost:8080/"
        },
        "outputId": "ef28d8ba-d8fc-4aab-9131-80214ef64d38"
      },
      "source": [
        "w.fill_(1)"
      ],
      "execution_count": null,
      "outputs": [
        {
          "output_type": "execute_result",
          "data": {
            "text/plain": [
              "tensor([[1., 1., 1.],\n",
              "        [1., 1., 1.],\n",
              "        [1., 1., 1.],\n",
              "        [1., 1., 1.]])"
            ]
          },
          "metadata": {},
          "execution_count": 8
        }
      ]
    },
    {
      "cell_type": "code",
      "metadata": {
        "id": "e8B5NyXJKXAS"
      },
      "source": [
        ""
      ],
      "execution_count": null,
      "outputs": []
    },
    {
      "cell_type": "code",
      "metadata": {
        "id": "f1bdHKbDKW5S"
      },
      "source": [
        ""
      ],
      "execution_count": null,
      "outputs": []
    },
    {
      "cell_type": "markdown",
      "metadata": {
        "id": "_eLyYpfw0ot_"
      },
      "source": [
        "## view()"
      ]
    },
    {
      "cell_type": "code",
      "metadata": {
        "id": "8SVsRZWjV6YX",
        "colab": {
          "base_uri": "https://localhost:8080/"
        },
        "outputId": "db74038c-7146-429d-a2cc-2ee40b823703"
      },
      "source": [
        "w.view(3,4)"
      ],
      "execution_count": null,
      "outputs": [
        {
          "output_type": "execute_result",
          "data": {
            "text/plain": [
              "tensor([[1., 1., 1., 1.],\n",
              "        [1., 1., 1., 1.],\n",
              "        [1., 1., 1., 1.]])"
            ]
          },
          "metadata": {},
          "execution_count": 9
        }
      ]
    },
    {
      "cell_type": "code",
      "metadata": {
        "id": "rRjvqiWBVhKH"
      },
      "source": [
        "t = w.view(12,1)"
      ],
      "execution_count": null,
      "outputs": []
    },
    {
      "cell_type": "code",
      "metadata": {
        "colab": {
          "base_uri": "https://localhost:8080/"
        },
        "id": "QTikK41y5VHd",
        "outputId": "faa59a23-0a39-4786-f9ca-89fcaaf1b0eb"
      },
      "source": [
        "t = w.view(6,-1)\n",
        "t"
      ],
      "execution_count": null,
      "outputs": [
        {
          "output_type": "execute_result",
          "data": {
            "text/plain": [
              "tensor([[1., 1.],\n",
              "        [1., 1.],\n",
              "        [1., 1.],\n",
              "        [1., 1.],\n",
              "        [1., 1.],\n",
              "        [1., 1.]])"
            ]
          },
          "metadata": {},
          "execution_count": 12
        }
      ]
    },
    {
      "cell_type": "markdown",
      "metadata": {
        "id": "O7OnDkxj329A"
      },
      "source": [
        "## numpy()"
      ]
    },
    {
      "cell_type": "code",
      "metadata": {
        "id": "VbXZYL6uWCD4",
        "colab": {
          "base_uri": "https://localhost:8080/"
        },
        "outputId": "dcd4d482-6a6b-4262-bf19-798d086aacba"
      },
      "source": [
        "w.numpy()"
      ],
      "execution_count": null,
      "outputs": [
        {
          "output_type": "execute_result",
          "data": {
            "text/plain": [
              "array([[1., 1., 1.],\n",
              "       [1., 1., 1.],\n",
              "       [1., 1., 1.],\n",
              "       [1., 1., 1.]], dtype=float32)"
            ]
          },
          "metadata": {},
          "execution_count": 13
        }
      ]
    },
    {
      "cell_type": "code",
      "metadata": {
        "id": "YL0za74iWBsn"
      },
      "source": [
        ""
      ],
      "execution_count": null,
      "outputs": []
    },
    {
      "cell_type": "code",
      "metadata": {
        "id": "vHPIyb8EWBkP"
      },
      "source": [
        ""
      ],
      "execution_count": null,
      "outputs": []
    }
  ]
}