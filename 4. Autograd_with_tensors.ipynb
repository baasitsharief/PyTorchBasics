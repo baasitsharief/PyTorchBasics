{
  "nbformat": 4,
  "nbformat_minor": 0,
  "metadata": {
    "colab": {
      "name": "Autograd_with_tensors.ipynb",
      "provenance": [],
      "collapsed_sections": []
    },
    "kernelspec": {
      "name": "python3",
      "display_name": "Python 3"
    }
  },
  "cells": [
    {
      "cell_type": "markdown",
      "metadata": {
        "id": "KPXHZpput5Xf"
      },
      "source": [
        "# Autograd with tensors"
      ]
    },
    {
      "cell_type": "code",
      "metadata": {
        "id": "p-C6nLqAt98a"
      },
      "source": [
        "import torch"
      ],
      "execution_count": null,
      "outputs": []
    },
    {
      "cell_type": "code",
      "metadata": {
        "id": "WRSfe0Lut952"
      },
      "source": [
        "w = torch.randn(4,3,requires_grad = True)"
      ],
      "execution_count": null,
      "outputs": []
    },
    {
      "cell_type": "code",
      "metadata": {
        "id": "O-QcOYO1tkOn",
        "colab": {
          "base_uri": "https://localhost:8080/"
        },
        "outputId": "7d4a99e7-f50e-4b14-ae3a-0c8fde8b27c0"
      },
      "source": [
        "w"
      ],
      "execution_count": null,
      "outputs": [
        {
          "output_type": "execute_result",
          "data": {
            "text/plain": [
              "tensor([[ 0.3765, -0.3624,  0.4632],\n",
              "        [-0.1694, -0.0039, -1.5887],\n",
              "        [ 0.4395,  0.1981,  0.2774],\n",
              "        [-1.4084, -0.1667, -0.1964]], requires_grad=True)"
            ]
          },
          "metadata": {},
          "execution_count": 3
        }
      ]
    },
    {
      "cell_type": "code",
      "metadata": {
        "id": "FuWckF34t8X1",
        "colab": {
          "base_uri": "https://localhost:8080/"
        },
        "outputId": "25d8ca77-52ff-46b0-b3a4-fbc8305cdabe"
      },
      "source": [
        "w.requires_grad_(False)\n",
        "w"
      ],
      "execution_count": null,
      "outputs": [
        {
          "output_type": "execute_result",
          "data": {
            "text/plain": [
              "tensor([[ 0.3765, -0.3624,  0.4632],\n",
              "        [-0.1694, -0.0039, -1.5887],\n",
              "        [ 0.4395,  0.1981,  0.2774],\n",
              "        [-1.4084, -0.1667, -0.1964]])"
            ]
          },
          "metadata": {},
          "execution_count": 4
        }
      ]
    },
    {
      "cell_type": "code",
      "metadata": {
        "id": "SkQCjuabt8Vh",
        "colab": {
          "base_uri": "https://localhost:8080/"
        },
        "outputId": "f9a87bc6-bab1-4f9a-f93c-9878890f0ba5"
      },
      "source": [
        "w.requires_grad_(True)"
      ],
      "execution_count": null,
      "outputs": [
        {
          "output_type": "execute_result",
          "data": {
            "text/plain": [
              "tensor([[ 0.3765, -0.3624,  0.4632],\n",
              "        [-0.1694, -0.0039, -1.5887],\n",
              "        [ 0.4395,  0.1981,  0.2774],\n",
              "        [-1.4084, -0.1667, -0.1964]], requires_grad=True)"
            ]
          },
          "metadata": {},
          "execution_count": 5
        }
      ]
    },
    {
      "cell_type": "code",
      "metadata": {
        "id": "rvggJC5wt8Ti",
        "colab": {
          "base_uri": "https://localhost:8080/"
        },
        "outputId": "c7c40aba-fef3-4190-e1c2-1271e3a39398"
      },
      "source": [
        "y = torch.exp(w)\n",
        "y"
      ],
      "execution_count": null,
      "outputs": [
        {
          "output_type": "execute_result",
          "data": {
            "text/plain": [
              "tensor([[1.4571, 0.6960, 1.5891],\n",
              "        [0.8442, 0.9961, 0.2042],\n",
              "        [1.5520, 1.2191, 1.3196],\n",
              "        [0.2445, 0.8464, 0.8217]], grad_fn=<ExpBackward0>)"
            ]
          },
          "metadata": {},
          "execution_count": 7
        }
      ]
    },
    {
      "cell_type": "code",
      "metadata": {
        "id": "PEg2PQiXt8RR",
        "colab": {
          "base_uri": "https://localhost:8080/"
        },
        "outputId": "a7e8779c-865b-446e-ddb1-924ccafbb29b"
      },
      "source": [
        "y.grad_fn"
      ],
      "execution_count": null,
      "outputs": [
        {
          "output_type": "execute_result",
          "data": {
            "text/plain": [
              "<ExpBackward0 at 0x7f751feca590>"
            ]
          },
          "metadata": {},
          "execution_count": 8
        }
      ]
    },
    {
      "cell_type": "code",
      "metadata": {
        "id": "QZopoC8It8O7",
        "colab": {
          "base_uri": "https://localhost:8080/"
        },
        "outputId": "69bfc79d-cc10-4aaf-85bc-796839fd996c"
      },
      "source": [
        "outp = y.mean()\n",
        "outp"
      ],
      "execution_count": null,
      "outputs": [
        {
          "output_type": "execute_result",
          "data": {
            "text/plain": [
              "tensor(0.9825, grad_fn=<MeanBackward0>)"
            ]
          },
          "metadata": {},
          "execution_count": 9
        }
      ]
    },
    {
      "cell_type": "code",
      "metadata": {
        "id": "ManI6K2rt8HD",
        "colab": {
          "base_uri": "https://localhost:8080/"
        },
        "outputId": "4271e6b9-fcff-422b-b59a-4c43a145a6f0"
      },
      "source": [
        "print(w.grad)"
      ],
      "execution_count": null,
      "outputs": [
        {
          "output_type": "stream",
          "name": "stdout",
          "text": [
            "None\n"
          ]
        }
      ]
    },
    {
      "cell_type": "code",
      "metadata": {
        "id": "tbQpKI4it8EJ"
      },
      "source": [
        "outp.backward()"
      ],
      "execution_count": null,
      "outputs": []
    },
    {
      "cell_type": "code",
      "metadata": {
        "id": "Qq3KkSGvt8B_",
        "colab": {
          "base_uri": "https://localhost:8080/"
        },
        "outputId": "5ac6afc9-2323-48e8-c242-4e71017e7dce"
      },
      "source": [
        "w.grad"
      ],
      "execution_count": null,
      "outputs": [
        {
          "output_type": "execute_result",
          "data": {
            "text/plain": [
              "tensor([[0.1214, 0.0580, 0.1324],\n",
              "        [0.0703, 0.0830, 0.0170],\n",
              "        [0.1293, 0.1016, 0.1100],\n",
              "        [0.0204, 0.0705, 0.0685]])"
            ]
          },
          "metadata": {},
          "execution_count": 12
        }
      ]
    },
    {
      "cell_type": "code",
      "metadata": {
        "id": "SgOzb_QMt7_-",
        "colab": {
          "base_uri": "https://localhost:8080/"
        },
        "outputId": "170be88f-0ef8-473a-ea85-dbb429b90cad"
      },
      "source": [
        "print(w.detach())"
      ],
      "execution_count": null,
      "outputs": [
        {
          "output_type": "stream",
          "name": "stdout",
          "text": [
            "tensor([[ 0.3765, -0.3624,  0.4632],\n",
            "        [-0.1694, -0.0039, -1.5887],\n",
            "        [ 0.4395,  0.1981,  0.2774],\n",
            "        [-1.4084, -0.1667, -0.1964]])\n"
          ]
        }
      ]
    },
    {
      "cell_type": "code",
      "metadata": {
        "id": "zVpIjfJ9t79q",
        "colab": {
          "base_uri": "https://localhost:8080/"
        },
        "outputId": "46aacef5-2a18-4728-bde3-37de97d4840f"
      },
      "source": [
        "print(outp.requires_grad)\n",
        "\n",
        "with torch.no_grad():\n",
        "    outp = (w+y).mean()\n",
        "\n",
        "print(outp.requires_grad)"
      ],
      "execution_count": null,
      "outputs": [
        {
          "output_type": "stream",
          "name": "stdout",
          "text": [
            "True\n",
            "False\n"
          ]
        }
      ]
    }
  ]
}